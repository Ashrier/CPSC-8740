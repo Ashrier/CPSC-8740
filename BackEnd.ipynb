{
 "cells": [
  {
   "cell_type": "code",
   "execution_count": 4,
   "id": "3804854e-4771-4faa-94e8-778e1ce12d9b",
   "metadata": {},
   "outputs": [],
   "source": [
    "from flask import Flask, request, jsonify\n",
    "import pandas as pd\n",
    "import numpy as np\n",
    "import joblib\n",
    "import json\n",
    "from tensorflow import keras\n",
    "from tensorflow.keras.preprocessing.sequence import pad_sequences\n",
    "from tensorflow.keras.preprocessing.text import Tokenizer"
   ]
  },
  {
   "cell_type": "code",
   "execution_count": 7,
   "id": "985fcecb-df43-41d6-8b6a-6626a55db3dc",
   "metadata": {},
   "outputs": [],
   "source": [
    "model = keras.models.load_model('movie_recommendation_model.h5')\n",
    "\n",
    "scaler = joblib.load('scaler.pkl')\n",
    "min_max_scaler = joblib.load('min_max_scaler.pkl')\n",
    "director_encoder = joblib.load('director_encoder.pkl')\n",
    "title_tokenizer = joblib.load('title_tokenizer.pkl')\n",
    "movies = pd.read_csv(\"neural_net_ready_preprocessed_movies.csv\")\n",
    "\n",
    "with open('actor_to_index.json', 'r') as f:\n",
    "    actor_to_index = json.load(f)\n",
    "all_actors = np.load('all_actors.npy', allow_pickle=True).tolist()\n",
    "with open('genre_columns.json', 'r') as f:\n",
    "    genre_columns = json.load(f)\n",
    "\n",
    "if 'Director_Encoded' not in movies.columns:\n",
    "     movies['Director_Encoded'] = director_encoder.transform(movies['Director'])\n",
    "\n",
    "if 'Title_Sequences' not in movies.columns:\n",
    "    sequences = title_tokenizer.texts_to_sequences(movies['Title'])\n",
    "    padded_sequences = pad_sequences(sequences, maxlen=20)\n",
    "    title_data = padded_sequences\n",
    "\n",
    "if 'Star_Cast_Encoded' not in movies.columns:\n",
    "     movies['Star Cast List Clean'] = movies['Star Cast List Clean'].apply(eval) \n",
    "     star_cast_encoded = np.zeros((len(movies), len(all_actors)))\n",
    "     for i, actors in enumerate(movies['Star Cast List Clean']):\n",
    "         for actor in actors:\n",
    "             if actor in actor_to_index:\n",
    "                 index = actor_to_index[actor]\n",
    "                 star_cast_encoded[i, index] = 1\n",
    "\n",
    "numerical_data = movies[['IMDb Rating', 'Duration (minutes)', 'Year']].values\n",
    "director_data = movies['Director_Encoded'].values \n",
    "genre_data = movies[genre_columns].values\n",
    "\n",
    "num_movies = len(movies_df)\n",
    "generic_user_id = 0 "
   ]
  },
  {
   "cell_type": "code",
   "execution_count": null,
   "id": "ef3c453d-9b58-400b-a0cc-98cf8ff058bd",
   "metadata": {},
   "outputs": [],
   "source": []
  }
 ],
 "metadata": {
  "kernelspec": {
   "display_name": "Python 3 (ipykernel)",
   "language": "python",
   "name": "python3"
  },
  "language_info": {
   "codemirror_mode": {
    "name": "ipython",
    "version": 3
   },
   "file_extension": ".py",
   "mimetype": "text/x-python",
   "name": "python",
   "nbconvert_exporter": "python",
   "pygments_lexer": "ipython3",
   "version": "3.9.18"
  }
 },
 "nbformat": 4,
 "nbformat_minor": 5
}
