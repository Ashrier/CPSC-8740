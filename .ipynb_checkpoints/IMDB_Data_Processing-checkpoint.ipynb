{
 "cells": [
  {
   "cell_type": "code",
   "execution_count": 1,
   "id": "6de569d6-b95f-4a00-bef2-d495f6dab3e8",
   "metadata": {},
   "outputs": [],
   "source": [
    "import pandas as pd\n",
    "import numpy as np\n",
    "import matplotlib.pyplot as plt\n",
    "import seaborn as sns\n",
    "from sklearn.preprocessing import StandardScaler, MinMaxScaler\n",
    "import re\n",
    "import string\n",
    "import joblib"
   ]
  },
  {
   "cell_type": "code",
   "execution_count": 2,
   "id": "2dfffc9c-0877-4ad4-822e-3c034170ea43",
   "metadata": {},
   "outputs": [],
   "source": [
    "movies1 = pd.read_csv(\"C:\\\\Users\\\\ashri\\\\CPSC 8740\\\\IMDB Dataset\\\\archive\\\\IMDb_Dataset.csv\")\n",
    "movies2 = pd.read_csv(\"C:\\\\Users\\\\ashri\\\\CPSC 8740\\\\IMDB Dataset\\\\archive\\\\IMDb_Dataset_2.csv\")\n",
    "movies3 = pd.read_csv(\"C:\\\\Users\\\\ashri\\\\CPSC 8740\\\\IMDB Dataset\\\\archive\\\\IMDb_Dataset_3.csv\")\n",
    "movies = pd.concat([movies1, movies2, movies3], ignore_index = True)"
   ]
  },
  {
   "cell_type": "code",
   "execution_count": 3,
   "id": "90fe0a39-8847-4888-a8a2-5f74e560433c",
   "metadata": {},
   "outputs": [
    {
     "name": "stdout",
     "output_type": "stream",
     "text": [
      "                          Title  IMDb Rating  Year Certificates        Genre  \\\n",
      "0              End of the Spear          6.8  2005        PG-13    Adventure   \n",
      "1                Elvira Madigan          7.0  1967           PG    Biography   \n",
      "2  The Kid Stays in the Picture          7.3  2002            R  Documentary   \n",
      "3                 It Ain't Over          8.2  2022           PG  Documentary   \n",
      "4                        Mahler          7.0  1974           PG    Biography   \n",
      "\n",
      "           Director                                   Star Cast  MetaScore  \\\n",
      "0         Jim Hanon         Louie LeonardoChad AllenJack Guzman       45.0   \n",
      "1      Bo Widerberg  Pia DegermarkThommy BerggrenLennart Malmer       66.0   \n",
      "2  Nanette Burstein          Robert EvansEddie AlbertPeter Bart       75.0   \n",
      "3       Sean Mullin          Andy AndresRoger AngellMarty Appel       79.0   \n",
      "4       Ken Russell      Robert PowellGeorgina HaleLee Montague       66.0   \n",
      "\n",
      "                                          Poster-src  Duration (minutes)  \n",
      "0  https://m.media-amazon.com/images/M/MV5BMTYxOT...               108.0  \n",
      "1  https://m.media-amazon.com/images/M/MV5BMmY2Nj...                91.0  \n",
      "2  https://m.media-amazon.com/images/M/MV5BZjhiZm...                93.0  \n",
      "3  https://m.media-amazon.com/images/M/MV5BZWViYW...                99.0  \n",
      "4  https://m.media-amazon.com/images/M/MV5BYzY4Mz...               115.0  \n"
     ]
    }
   ],
   "source": [
    "print(movies2.head())"
   ]
  },
  {
   "cell_type": "code",
   "execution_count": 4,
   "id": "e8f0b789-90b9-4346-8741-8d7e9cdc546e",
   "metadata": {},
   "outputs": [
    {
     "name": "stdout",
     "output_type": "stream",
     "text": [
      "<class 'pandas.core.frame.DataFrame'>\n",
      "RangeIndex: 4573 entries, 0 to 4572\n",
      "Data columns (total 12 columns):\n",
      " #   Column              Non-Null Count  Dtype  \n",
      "---  ------              --------------  -----  \n",
      " 0   Title               4573 non-null   object \n",
      " 1   IMDb Rating         4573 non-null   float64\n",
      " 2   Year                4573 non-null   int64  \n",
      " 3   Certificates        4573 non-null   object \n",
      " 4   Genre               4573 non-null   object \n",
      " 5   Director            4573 non-null   object \n",
      " 6   Star Cast           4573 non-null   object \n",
      " 7   MetaScore           4573 non-null   float64\n",
      " 8   Duration (minutes)  4573 non-null   float64\n",
      " 9   Poster-src          4173 non-null   object \n",
      " 10  Second_Genre        1000 non-null   object \n",
      " 11  Third_Genre         1000 non-null   object \n",
      "dtypes: float64(3), int64(1), object(8)\n",
      "memory usage: 428.8+ KB\n",
      "None\n"
     ]
    }
   ],
   "source": [
    "print(movies.info())"
   ]
  },
  {
   "cell_type": "code",
   "execution_count": 5,
   "id": "a2f177c2-15ae-41d8-833b-33e71af5bdf8",
   "metadata": {},
   "outputs": [
    {
     "name": "stdout",
     "output_type": "stream",
     "text": [
      "       IMDb Rating         Year    MetaScore  Duration (minutes)\n",
      "count  4573.000000  4573.000000  4573.000000         4573.000000\n",
      "mean      6.834660  2005.460529    64.122589          112.749421\n",
      "std       0.878024    17.263552    13.169511           22.092234\n",
      "min       3.900000  1917.000000    11.000000           46.000000\n",
      "25%       6.300000  1997.000000    57.100000           99.000000\n",
      "50%       6.900000  2010.000000    66.000000          115.000000\n",
      "75%       7.400000  2018.000000    69.000000          119.000000\n",
      "max       9.500000  2025.000000   100.000000          317.000000\n"
     ]
    }
   ],
   "source": [
    "print(movies.describe())"
   ]
  },
  {
   "cell_type": "code",
   "execution_count": 6,
   "id": "eecb4978-389a-4de6-9bc2-8a39e5cc7e74",
   "metadata": {
    "scrolled": true
   },
   "outputs": [
    {
     "name": "stdout",
     "output_type": "stream",
     "text": [
      "Title                    0\n",
      "IMDb Rating              0\n",
      "Year                     0\n",
      "Certificates             0\n",
      "Genre                    0\n",
      "Director                 0\n",
      "Star Cast                0\n",
      "MetaScore                0\n",
      "Duration (minutes)       0\n",
      "Poster-src             400\n",
      "Second_Genre          3573\n",
      "Third_Genre           3573\n",
      "dtype: int64\n"
     ]
    }
   ],
   "source": [
    "print(movies.isnull().sum())"
   ]
  },
  {
   "cell_type": "code",
   "execution_count": 7,
   "id": "6f7ad285-9e3d-4420-9689-44146984fa9b",
   "metadata": {},
   "outputs": [
    {
     "name": "stdout",
     "output_type": "stream",
     "text": [
      "                                       Star Cast  \\\n",
      "0  David Franzoni, John Logan, William Nicholson   \n",
      "1         Tom Cruise, Hayley Atwell, Ving Rhames   \n",
      "2        Zack Snyder, Kurt Johnstad, Shay Hatten   \n",
      "3              Brad Pitt, Diane Kruger, Eli Roth   \n",
      "4                          Eli Roth, Joe Crombie   \n",
      "\n",
      "                                 Star Cast Lower  \\\n",
      "0  david franzoni, john logan, william nicholson   \n",
      "1         tom cruise, hayley atwell, ving rhames   \n",
      "2        zack snyder, kurt johnstad, shay hatten   \n",
      "3              brad pitt, diane kruger, eli roth   \n",
      "4                          eli roth, joe crombie   \n",
      "\n",
      "                              Star Cast List Clean  \n",
      "0  [david franzoni, john logan, william nicholson]  \n",
      "1         [tom cruise, hayley atwell, ving rhames]  \n",
      "2        [zack snyder, kurt johnstad, shay hatten]  \n",
      "3              [brad pitt, diane kruger, eli roth]  \n",
      "4                          [eli roth, joe crombie]  \n"
     ]
    }
   ],
   "source": [
    "def separate_no_precheck(cast_string):\n",
    "    if pd.isna(cast_string):\n",
    "        return \"\"\n",
    "    cast_string = str(cast_string).strip()\n",
    "\n",
    "    pattern = r\"([a-z0-9])([A-Z])\"\n",
    "    separated_string = re.sub(pattern, r\"\\1, \\2\", cast_string, flags=re.UNICODE)\n",
    "\n",
    "    return separated_string\n",
    "\n",
    "movies['Star Cast'] = movies['Star Cast'].apply(separate_no_precheck)\n",
    "movies['Star Cast Lower'] = movies['Star Cast'].str.lower()\n",
    "movies['Star Cast List'] = movies['Star Cast Lower'].apply(lambda x: x.split(', '))\n",
    "movies['Star Cast List Clean'] = movies['Star Cast List'].apply(lambda name_list: [name.strip() for name in name_list])\n",
    "print(movies[['Star Cast', 'Star Cast Lower', 'Star Cast List Clean']].head())"
   ]
  },
  {
   "cell_type": "code",
   "execution_count": 8,
   "id": "fe2bdb57-452e-4601-a267-cecadd0bcacb",
   "metadata": {
    "scrolled": true
   },
   "outputs": [
    {
     "name": "stdout",
     "output_type": "stream",
     "text": [
      "['Action' 'Adventure' 'Animation' 'Crime' 'Comedy' 'Biography' 'Horror'\n",
      " 'Drama' 'Fantasy' 'Thriller' 'Documentary' 'Family' 'Sci-Fi' 'Musical'\n",
      " 'Mystery' 'Romance' 'History' 'Reality-TV']\n"
     ]
    }
   ],
   "source": [
    "print(movies['Genre'].unique())"
   ]
  },
  {
   "cell_type": "code",
   "execution_count": 9,
   "id": "8b75aab6-dae5-4793-a551-c91df322ab9b",
   "metadata": {},
   "outputs": [
    {
     "name": "stdout",
     "output_type": "stream",
     "text": [
      "                                           Title  IMDb Rating  Year  \\\n",
      "0                                      Gladiator          8.5  2000   \n",
      "1  Mission: Impossible - Dead Reckoning Part One          7.7  2023   \n",
      "2           Rebel Moon - Part Two: The Scargiver          5.2  2024   \n",
      "3                           Inglourious Basterds          8.4  2009   \n",
      "4                                    Borderlands          7.1  2024   \n",
      "\n",
      "  Certificates               Director  \\\n",
      "0            R           Ridley Scott   \n",
      "1        PG-13  Christopher McQuarrie   \n",
      "2        PG-13            Zack Snyder   \n",
      "3            R      Quentin Tarantino   \n",
      "4            R               Eli Roth   \n",
      "\n",
      "                                       Star Cast  MetaScore  \\\n",
      "0  David Franzoni, John Logan, William Nicholson       67.0   \n",
      "1         Tom Cruise, Hayley Atwell, Ving Rhames       81.0   \n",
      "2        Zack Snyder, Kurt Johnstad, Shay Hatten       35.0   \n",
      "3              Brad Pitt, Diane Kruger, Eli Roth       69.0   \n",
      "4                          Eli Roth, Joe Crombie       66.9   \n",
      "\n",
      "   Duration (minutes)                                Star Cast Lower  \\\n",
      "0               155.0  david franzoni, john logan, william nicholson   \n",
      "1               163.0         tom cruise, hayley atwell, ving rhames   \n",
      "2               122.0        zack snyder, kurt johnstad, shay hatten   \n",
      "3               153.0              brad pitt, diane kruger, eli roth   \n",
      "4               116.3                          eli roth, joe crombie   \n",
      "\n",
      "                                    Star Cast List  ... Horror Music  Musical  \\\n",
      "0  [david franzoni, john logan, william nicholson]  ...      0     0        0   \n",
      "1         [tom cruise, hayley atwell, ving rhames]  ...      0     0        0   \n",
      "2        [zack snyder, kurt johnstad, shay hatten]  ...      0     0        0   \n",
      "3              [brad pitt, diane kruger, eli roth]  ...      0     0        0   \n",
      "4                          [eli roth, joe crombie]  ...      0     0        0   \n",
      "\n",
      "   Mystery  Reality-TV  Romance  Sci-Fi  Sport  Thriller  Western  \n",
      "0        0           0        0       0      0         0        0  \n",
      "1        0           0        0       0      0         0        0  \n",
      "2        0           0        0       0      0         0        0  \n",
      "3        0           0        0       0      0         0        0  \n",
      "4        0           0        0       0      0         0        0  \n",
      "\n",
      "[5 rows x 33 columns]\n"
     ]
    }
   ],
   "source": [
    "#Fill NaN with empty strings to avoid errors during concatenation\n",
    "movies['Second_Genre'] = movies['Second_Genre'].fillna('')\n",
    "movies['Third_Genre'] = movies['Third_Genre'].fillna('')\n",
    "\n",
    "#Combine Genres into a list\n",
    "movies['Genres'] = movies.apply(lambda row: [g for g in [row['Genre'], row['Second_Genre'], row['Third_Genre']] if g != ''], axis=1)\n",
    "\n",
    "#One-Hot Encode the combinded Genres\n",
    "movies['Genres_str'] = movies['Genres'].apply(lambda x: ', '.join(x))\n",
    "genre_dummies = movies['Genres_str'].str.get_dummies(sep=', ')\n",
    "movies = pd.concat([movies, genre_dummies], axis = 1)\n",
    "movies.drop(['Genres_str', 'Genre', 'Second_Genre', 'Third_Genre'], axis=1, inplace=True)\n",
    "movies.drop(['Poster-src'], axis = 1, inplace = True)\n",
    "\n",
    "print(movies.head())"
   ]
  },
  {
   "cell_type": "code",
   "execution_count": 10,
   "id": "5447b0b9-943f-40f9-ac92-0cd96674d3aa",
   "metadata": {},
   "outputs": [
    {
     "name": "stdout",
     "output_type": "stream",
     "text": [
      "['R' 'PG-13' 'PG' 'TV-G' 'G' 'Not Rated' 'Approved' 'TV-MA' 'NC-17' '16+'\n",
      " 'TV-PG' 'M/PG' 'Unrated' 'TV-Y7' 'TV-14' 'X' 'Passed' 'TV-Y7-FV']\n"
     ]
    }
   ],
   "source": [
    "print(movies['Certificates'].unique())"
   ]
  },
  {
   "cell_type": "code",
   "execution_count": 11,
   "id": "4e44bca2-6717-4a51-bf2d-2a6596ec5c08",
   "metadata": {},
   "outputs": [],
   "source": [
    "def clean_title(title):\n",
    "    return re.sub(r'\\d+', '', title)\n",
    "\n",
    "#Using Regular Expressions to remove any numbers in the title. \n",
    "\n",
    "movies['Title']=movies['Title'].apply(clean_title)"
   ]
  },
  {
   "cell_type": "code",
   "execution_count": 12,
   "id": "d8efedf4-077c-495c-8038-737c058df87e",
   "metadata": {},
   "outputs": [],
   "source": [
    "# Converting to lowercase for consistency \n",
    "text_columns = ['Title', 'Director']\n",
    "for col in text_columns:\n",
    "    movies[col] = movies[col].str.lower()"
   ]
  },
  {
   "cell_type": "code",
   "execution_count": 13,
   "id": "a934c398-8efa-4a96-aa4e-35c477cc4398",
   "metadata": {},
   "outputs": [
    {
     "data": {
      "text/plain": [
       "['scaler.pkl']"
      ]
     },
     "execution_count": 13,
     "metadata": {},
     "output_type": "execute_result"
    }
   ],
   "source": [
    "#Feature scaling to have mean of 0 and std deviation of 1. Normalization will be helpful for gradient descent in the Neural Network.\n",
    "scaler = StandardScaler()\n",
    "numerical_cols = ['IMDb Rating', 'Duration (minutes)', 'Year']\n",
    "movies[numerical_cols] = scaler.fit_transform(movies[numerical_cols])\n",
    "joblib.dump(scaler, 'scaler.pkl')"
   ]
  },
  {
   "cell_type": "code",
   "execution_count": 14,
   "id": "4400b500-a389-402a-84aa-a9ffff31db96",
   "metadata": {},
   "outputs": [
    {
     "data": {
      "text/plain": [
       "['min_max_scaler.pkl']"
      ]
     },
     "execution_count": 14,
     "metadata": {},
     "output_type": "execute_result"
    }
   ],
   "source": [
    "#Min-Max Scaling to scale data between range of 0-1. Useful to preserve original distribution. \n",
    "min_max_scaler = MinMaxScaler()\n",
    "movies[numerical_cols] = min_max_scaler.fit_transform(movies[numerical_cols])\n",
    "joblib.dump(min_max_scaler, 'min_max_scaler.pkl')"
   ]
  },
  {
   "cell_type": "code",
   "execution_count": 15,
   "id": "628d7eaf-b308-4165-94ba-be7557d6697e",
   "metadata": {},
   "outputs": [
    {
     "data": {
      "image/png": "[encoded data removed]",
      "text/plain": [
       "<Figure size 800x600 with 1 Axes>"
      ]
     },
     "metadata": {},
     "output_type": "display_data"
    }
   ],
   "source": [
    "#Using Matplotlib to visualize outliers.\n",
    "plt.figure(figsize = (8,6))\n",
    "plt.boxplot(movies['IMDb Rating'].dropna()) #Drop NaN if needed\n",
    "plt.title('IMDb Rating Box Plot')\n",
    "plt.show()"
   ]
  },
  {
   "cell_type": "code",
   "execution_count": 16,
   "id": "10e185e2-d5a3-479e-ab25-4542c1e0f35f",
   "metadata": {},
   "outputs": [
    {
     "data": {
      "image/png": "[encoded data removed]",
      "text/plain": [
       "<Figure size 800x600 with 1 Axes>"
      ]
     },
     "metadata": {},
     "output_type": "display_data"
    }
   ],
   "source": [
    "plt.figure(figsize = (8,6))\n",
    "plt.boxplot(movies['Duration (minutes)'].dropna()) #Drop NaN if needed\n",
    "plt.title('Duration minutes Box Plot')\n",
    "plt.show()"
   ]
  },
  {
   "cell_type": "code",
   "execution_count": 17,
   "id": "daacfd97-5bbc-4bc2-b89b-e68fd801b0a8",
   "metadata": {},
   "outputs": [],
   "source": [
    "# Remove Outliers using the IQR method for if they lay further than Q1 - 1.5*IQR or Q3 + 1.5*IQR\n",
    "def remove_outliers_iqr(data, column):\n",
    "    Q1 = data[column].quantile(0.25)\n",
    "    Q3 = data[column].quantile(0.75)\n",
    "    IQR = Q3 - Q1\n",
    "    lower_bound = Q1 - 1.5*IQR\n",
    "    upper_bound = Q3 + 1.5*IQR\n",
    "    data = data[(data[column] >= lower_bound) & (data[column] <= upper_bound)]\n",
    "    return data\n",
    "movies = remove_outliers_iqr(movies, 'IMDb Rating')\n",
    "movies = remove_outliers_iqr(movies, 'Duration (minutes)')"
   ]
  },
  {
   "cell_type": "code",
   "execution_count": 18,
   "id": "a4c2652b-62ac-4b58-9351-03e138061d7e",
   "metadata": {},
   "outputs": [],
   "source": [
    "#Dropping MetaScore\n",
    "movies = movies.drop(['MetaScore'], axis = 1)"
   ]
  },
  {
   "cell_type": "code",
   "execution_count": 19,
   "id": "06503641-38ab-4cf6-92bc-3661a05ad794",
   "metadata": {},
   "outputs": [
    {
     "name": "stdout",
     "output_type": "stream",
     "text": [
      "                                  Title  IMDb Rating      Year Certificates  \\\n",
      "2  rebel moon - part two: the scargiver     0.232143  0.990741        PG-13   \n",
      "4                           borderlands     0.571429  0.990741            R   \n",
      "5                         jurassic park     0.767857  0.703704        PG-13   \n",
      "6                     the fifth element     0.660714  0.740741        PG-13   \n",
      "7                            inside out     0.750000  0.907407           PG   \n",
      "\n",
      "           Director                                      Star Cast  \\\n",
      "2       zack snyder        Zack Snyder, Kurt Johnstad, Shay Hatten   \n",
      "4          eli roth                          Eli Roth, Joe Crombie   \n",
      "5  steven spielberg                  Michael Crichton, David Koepp   \n",
      "6        luc besson                  Luc Besson, Robert Mark Kamen   \n",
      "7       pete docter  Pete Docter, Ronnie Del Carmen, Meg Le, Fauve   \n",
      "\n",
      "   Duration (minutes)                                Star Cast Lower  \\\n",
      "2            0.280443        zack snyder, kurt johnstad, shay hatten   \n",
      "4            0.259410                          eli roth, joe crombie   \n",
      "5            0.298893                  michael crichton, david koepp   \n",
      "6            0.295203                  luc besson, robert mark kamen   \n",
      "7            0.180812  pete docter, ronnie del carmen, meg le, fauve   \n",
      "\n",
      "                                    Star Cast List  \\\n",
      "2        [zack snyder, kurt johnstad, shay hatten]   \n",
      "4                          [eli roth, joe crombie]   \n",
      "5                  [michael crichton, david koepp]   \n",
      "6                  [luc besson, robert mark kamen]   \n",
      "7  [pete docter, ronnie del carmen, meg le, fauve]   \n",
      "\n",
      "                              Star Cast List Clean  ... Horror  Music  \\\n",
      "2        [zack snyder, kurt johnstad, shay hatten]  ...      0      0   \n",
      "4                          [eli roth, joe crombie]  ...      0      0   \n",
      "5                  [michael crichton, david koepp]  ...      0      0   \n",
      "6                  [luc besson, robert mark kamen]  ...      0      0   \n",
      "7  [pete docter, ronnie del carmen, meg le, fauve]  ...      0      0   \n",
      "\n",
      "   Musical  Mystery  Reality-TV  Romance  Sci-Fi  Sport  Thriller  Western  \n",
      "2        0        0           0        0       0      0         0        0  \n",
      "4        0        0           0        0       0      0         0        0  \n",
      "5        0        0           0        0       0      0         0        0  \n",
      "6        0        0           0        0       0      0         0        0  \n",
      "7        0        0           0        0       0      0         0        0  \n",
      "\n",
      "[5 rows x 32 columns]\n"
     ]
    }
   ],
   "source": [
    "print(movies.head())"
   ]
  },
  {
   "cell_type": "code",
   "execution_count": 20,
   "id": "85a5a19a-c594-451d-83f2-58cb30fd423b",
   "metadata": {},
   "outputs": [],
   "source": [
    "#saving preprocessed data\n",
    "movies.to_csv('preprocessed_movies.csv', index=False)"
   ]
  },
  {
   "cell_type": "code",
   "execution_count": 25,
   "id": "2b78eb4a-b8dc-4b2d-a136-dba5abbbddda",
   "metadata": {},
   "outputs": [],
   "source": [
    "genre_column_count = len(genre_dummies.columns)"
   ]
  },
  {
   "cell_type": "code",
   "execution_count": 28,
   "id": "f13c2123-c803-4142-909d-d76a9a87efc3",
   "metadata": {},
   "outputs": [
    {
     "name": "stdout",
     "output_type": "stream",
     "text": [
      "Number of unique genres 21\n"
     ]
    }
   ],
   "source": [
    "print(f\"Number of unique genres {genre_column_count}\")"
   ]
  },
  {
   "cell_type": "code",
   "execution_count": 29,
   "id": "5538db93-b959-47ad-93f2-28a765a12b08",
   "metadata": {},
   "outputs": [
    {
     "name": "stdout",
     "output_type": "stream",
     "text": [
      "Index(['Title', 'IMDb Rating', 'Year', 'Certificates', 'Director', 'Star Cast',\n",
      "       'Duration (minutes)', 'Star Cast Lower', 'Star Cast List',\n",
      "       'Star Cast List Clean', 'Genres', 'Action', 'Adventure', 'Animation',\n",
      "       'Biography', 'Comedy', 'Crime', 'Documentary', 'Drama', 'Family',\n",
      "       'Fantasy', 'History', 'Horror', 'Music', 'Musical', 'Mystery',\n",
      "       'Reality-TV', 'Romance', 'Sci-Fi', 'Sport', 'Thriller', 'Western'],\n",
      "      dtype='object')\n"
     ]
    }
   ],
   "source": [
    "print(movies.columns)"
   ]
  },
  {
   "cell_type": "code",
   "execution_count": null,
   "id": "6d6635fb-f349-4b27-9f15-c374fcc9d064",
   "metadata": {},
   "outputs": [],
   "source": []
  }
 ],
 "metadata": {
  "kernelspec": {
   "display_name": "Python 3 (ipykernel)",
   "language": "python",
   "name": "python3"
  },
  "language_info": {
   "codemirror_mode": {
    "name": "ipython",
    "version": 3
   },
   "file_extension": ".py",
   "mimetype": "text/x-python",
   "name": "python",
   "nbconvert_exporter": "python",
   "pygments_lexer": "ipython3",
   "version": "3.9.18"
  }
 },
 "nbformat": 4,
 "nbformat_minor": 5
}
