{
 "cells": [
  {
   "cell_type": "code",
   "execution_count": 2,
   "id": "dfd2087f-c3c6-4fa4-a0de-c91559690234",
   "metadata": {},
   "outputs": [],
   "source": [
    "import pandas as pd\n",
    "import numpy as np\n",
    "import joblib\n",
    "import json\n",
    "from tensorflow import keras\n",
    "from sklearn.preprocessing import LabelEncoder\n",
    "from tensorflow.keras.preprocessing.sequence import pad_sequences\n",
    "from tensorflow.keras.preprocessing.text import Tokenizer"
   ]
  },
  {
   "cell_type": "code",
   "execution_count": 20,
   "id": "eb8e234c-0718-4996-84da-3e0f3b8eb4ce",
   "metadata": {},
   "outputs": [],
   "source": [
    "sheet_name = 'Movie_Preference_Information'\n",
    "sheet_id = '1u85B-IL-btlQaqji6wXwgvbdZc_PZ9Y8EVCIRg-DMY0'\n",
    "url = f\"https://docs.google.com/spreadsheets/d/{sheet_id}/gviz/tq?tqx=out:csv&sheet={sheet_name}\"\n",
    "prefs_df = pd.read_csv(url)"
   ]
  },
  {
   "cell_type": "code",
   "execution_count": 3,
   "id": "bf615929-0d4a-4bc1-9358-dc7e87a8c9d7",
   "metadata": {},
   "outputs": [],
   "source": [
    "model = keras.models.load_model('movie_recommendation_model.h5')\n",
    "scaler = joblib.load('scaler.pkl')\n",
    "min_max_scaler = joblib.load('min_max_scaler.pkl')\n",
    "director_encoder = joblib.load('director_encoder.pkl')\n",
    "title_tokenizer = joblib.load('title_tokenizer.pkl')\n",
    "\n",
    "with open('actor_to_index.json', 'r') as f:\n",
    "    actor_to_index = json.load(f)\n",
    "all_actors = np.load('all_actors.npy', allow_pickle=True).tolist()\n",
    "with open('genre_columns.json', 'r') as f:\n",
    "    genre_columns = json.load(f)"
   ]
  },
  {
   "cell_type": "code",
   "execution_count": 4,
   "id": "cd99fcb1-0204-4885-8a14-1e1004f2502d",
   "metadata": {},
   "outputs": [],
   "source": [
    "movies = pd.read_csv(\"neural_net_ready_preprocessed_movies.csv\")"
   ]
  },
  {
   "cell_type": "code",
   "execution_count": 5,
   "id": "b0607c78-357b-4b8d-a445-e6148f3d1e4e",
   "metadata": {},
   "outputs": [],
   "source": [
    "if 'Director_Encoded' not in movies.columns:\n",
    "     movies['Director_Encoded'] = director_encoder.transform(movies['Director'])"
   ]
  },
  {
   "cell_type": "code",
   "execution_count": 6,
   "id": "4e39b81c-d203-466e-a003-575a63b81a3c",
   "metadata": {},
   "outputs": [],
   "source": [
    "if 'Title_Sequences' not in movies.columns:\n",
    "    sequences = title_tokenizer.texts_to_sequences(movies['Title'])\n",
    "    padded_sequences = pad_sequences(sequences, maxlen=20)\n",
    "    title_data = padded_sequences"
   ]
  },
  {
   "cell_type": "code",
   "execution_count": 7,
   "id": "f6b8f968-acf3-4cd7-82a3-5d05098eb401",
   "metadata": {},
   "outputs": [],
   "source": [
    "if 'Star_Cast_Encoded' not in movies.columns:\n",
    "     movies['Star Cast List Clean'] = movies['Star Cast List Clean'].apply(eval) \n",
    "     star_cast_encoded = np.zeros((len(movies), len(all_actors)))\n",
    "     for i, actors in enumerate(movies['Star Cast List Clean']):\n",
    "         for actor in actors:\n",
    "             if actor in actor_to_index:\n",
    "                 index = actor_to_index[actor]\n",
    "                 star_cast_encoded[i, index] = 1"
   ]
  },
  {
   "cell_type": "code",
   "execution_count": 8,
   "id": "dc4792e6-060b-4691-a874-fec7c7c940d1",
   "metadata": {},
   "outputs": [],
   "source": [
    "numerical_data = movies[['IMDb Rating', 'Duration (minutes)', 'Year']].values\n",
    "director_data = movies['Director_Encoded'].values \n",
    "genre_data = movies[genre_columns].values"
   ]
  },
  {
   "cell_type": "code",
   "execution_count": 9,
   "id": "9c0013bf-7e53-4657-b202-e7124a9da88a",
   "metadata": {},
   "outputs": [],
   "source": [
    "user_id_to_predict = 5 \n",
    "num_movies = len(movies)"
   ]
  },
  {
   "cell_type": "code",
   "execution_count": 10,
   "id": "e42c29e1-7e25-49e7-9a00-4f3876ef0bef",
   "metadata": {},
   "outputs": [],
   "source": [
    "user_id_array = np.array([user_id_to_predict] * num_movies)\n",
    "movie_id_array = np.arange(num_movies)"
   ]
  },
  {
   "cell_type": "code",
   "execution_count": 11,
   "id": "c3f1e941-5508-422e-ac48-c91e13d185a9",
   "metadata": {},
   "outputs": [],
   "source": [
    "all_numerical_data = numerical_data\n",
    "all_director_data = director_data\n",
    "all_genre_data = genre_data\n",
    "all_star_cast_data = star_cast_encoded\n",
    "all_title_data = title_data"
   ]
  },
  {
   "cell_type": "code",
   "execution_count": 12,
   "id": "32af01cb-478c-438f-9a58-8ac40d373723",
   "metadata": {},
   "outputs": [
    {
     "name": "stdout",
     "output_type": "stream",
     "text": [
      "132/132 [==============================] - 1s 2ms/step\n"
     ]
    }
   ],
   "source": [
    "predictions = model.predict([\n",
    "    user_id_array,\n",
    "    movie_id_array,        \n",
    "    all_numerical_data,\n",
    "    all_director_data,\n",
    "    all_genre_data,\n",
    "    all_star_cast_data,\n",
    "    all_title_data\n",
    "])"
   ]
  },
  {
   "cell_type": "code",
   "execution_count": 13,
   "id": "1a7b1547-5e20-4a02-88b2-d4b62bc52332",
   "metadata": {},
   "outputs": [],
   "source": [
    "movies['predicted_liking'] = predictions.flatten()"
   ]
  },
  {
   "cell_type": "code",
   "execution_count": 14,
   "id": "967b580f-1cac-41dd-9f00-608ed3267bd1",
   "metadata": {},
   "outputs": [],
   "source": [
    "recommendations = movies.sort_values(by='predicted_liking', ascending=False)"
   ]
  },
  {
   "cell_type": "code",
   "execution_count": 15,
   "id": "7c8439ed-a7c0-41cc-9df9-fd0df1b8317a",
   "metadata": {},
   "outputs": [
    {
     "name": "stdout",
     "output_type": "stream",
     "text": [
      "Top 10 recommendations for User ID 5:\n",
      "- rebel moon - part two: the scargiver (Predicted Liking: 100.00%)\n",
      "- hollywoodland (Predicted Liking: 100.00%)\n",
      "- black ' (Predicted Liking: 100.00%)\n",
      "- retrograde (Predicted Liking: 100.00%)\n",
      "- mark of the devil (Predicted Liking: 100.00%)\n",
      "- driven (Predicted Liking: 100.00%)\n",
      "- ip man  (Predicted Liking: 100.00%)\n",
      "- scandal (Predicted Liking: 100.00%)\n",
      "- marshall (Predicted Liking: 100.00%)\n",
      "- geronimo: an american legend (Predicted Liking: 100.00%)\n"
     ]
    }
   ],
   "source": [
    "top_n = 10\n",
    "print(f\"Top {top_n} recommendations for User ID {user_id_to_predict}:\")\n",
    "for index, row in recommendations.head(top_n).iterrows():\n",
    "    print(f\"- {row['Title']} (Predicted Liking: {row['predicted_liking']:.2%})\")"
   ]
  },
  {
   "cell_type": "code",
   "execution_count": 21,
   "id": "f7daff8b-0300-44a9-b98c-d0f736e6176a",
   "metadata": {},
   "outputs": [],
   "source": [
    "generic_user_id = 0 # Or an average user ID\n",
    "generic_user_array = np.array([generic_user_id] * num_movies)\n",
    "movie_id_array = np.arange(num_movies)"
   ]
  },
  {
   "cell_type": "code",
   "execution_count": 23,
   "id": "28512b4d-708c-43bb-a98d-0e9784d4abd4",
   "metadata": {},
   "outputs": [],
   "source": [
    "def process_preferences(raw_prefs_row, all_genre_columns):\n",
    "    \"\"\"Converts a row (Pandas Series) of raw preferences into a structured dictionary.\"\"\"\n",
    "    processed = {}\n",
    "    # Adjust keys based on your actual DataFrame column names\n",
    "    raw_genres = raw_prefs_row.get('What Genres do you enjoy?', '').split(',') # Example key\n",
    "    processed['genres'] = [g.strip() for g in raw_genres if g.strip()]\n",
    "\n",
    "    processed['era'] = raw_prefs_row.get('Do you prefer older classics or newer releases?', '') # Example key\n",
    "    processed['length'] = raw_prefs_row.get('Do you prefer shorter movies or longer epics?', '') # Example key\n",
    "\n",
    "    raw_actors_directors = raw_prefs_row.get('Are there any actors or directors your particularly enjoy?', '') # Example key\n",
    "    if isinstance(raw_actors_directors, str) and raw_actors_directors.lower().strip() not in ['no', 'yes', 'nope', '']:\n",
    "        processed['actors_directors'] = [name.strip() for name in raw_actors_directors.split(',') if name.strip()]\n",
    "    else:\n",
    "         processed['actors_directors'] = []\n",
    "\n",
    "    processed['acclaim'] = raw_prefs_row.get('Do you prefer critically acclaimed movies or more popular ones?', '') # Example key\n",
    "    return processed\n",
    "\n",
    "def apply_filtering(movies_with_scores_df, processed_prefs):\n",
    "    \"\"\"Filters the movie DataFrame based on user preferences.\"\"\"\n",
    "    filtered_df = movies_with_scores_df.copy()\n",
    "\n",
    "    # Filter by Genre\n",
    "    if processed_prefs.get('genres'):\n",
    "         # Ensure your movies_df has the one-hot encoded columns matching genre_columns\n",
    "         valid_genres = [g for g in processed_prefs['genres'] if g in filtered_df.columns]\n",
    "         if valid_genres:\n",
    "             genre_filter = filtered_df[valid_genres].sum(axis=1) > 0\n",
    "             filtered_df = filtered_df[genre_filter]\n",
    "\n",
    "    # Filter by Era (Requires 'Original_Year' column, see previous examples)\n",
    "    # if 'Original_Year' in filtered_df.columns:\n",
    "    #    # ... add era filtering logic ...\n",
    "    #    pass\n",
    "\n",
    "    # Filter by Length (Requires 'Original_Duration' column, see previous examples)\n",
    "    # if 'Original_Duration' in filtered_df.columns:\n",
    "    #    # ... add length filtering logic ...\n",
    "    #    pass\n",
    "\n",
    "    # Potential future filters: actors/directors, acclaim level (might require mapping acclaim to IMDb rating ranges, etc.)\n",
    "\n",
    "    return filtered_df"
   ]
  },
  {
   "cell_type": "code",
   "execution_count": 26,
   "id": "41defabf-c1d2-4b4d-89f1-496a8baae426",
   "metadata": {},
   "outputs": [
    {
     "name": "stdout",
     "output_type": "stream",
     "text": [
      "Processing user index: 0\n",
      "Processing user index: 1\n",
      "Processing user index: 2\n",
      "Processing user index: 3\n",
      "Processing user index: 4\n",
      "Processing user index: 5\n",
      "Processing user index: 6\n",
      "Processing user index: 7\n",
      "Processing user index: 8\n",
      "Processing user index: 9\n",
      "Processing user index: 10\n",
      "Processing user index: 11\n"
     ]
    }
   ],
   "source": [
    "all_user_recommendations = []\n",
    "for index, user_row in prefs_df.iterrows():\n",
    "    print(f\"Processing user index: {index}\") # Progress indicator\n",
    "\n",
    "    # 1. Process the preferences for the current user\n",
    "    # Pass the row (which is a Pandas Series) to the function\n",
    "    processed_prefs = process_preferences(user_row, genre_columns)\n",
    "\n",
    "    # 2. Apply Filtering based on these preferences\n",
    "    # Assumes movies_df has the 'base_score' column calculated above\n",
    "    filtered_recommendations = apply_filtering(movies, processed_prefs)\n",
    "\n",
    "    # 3. Sort filtered results and get Top N\n",
    "    final_recommendations = filtered_recommendations.sort_values(by='predicted_liking', ascending=False)\n",
    "    top_n = 10\n",
    "    user_top_movies = final_recommendations.head(top_n)[['Title', 'predicted_liking']].to_dict(orient='records')\n",
    "\n",
    "    # 4. Store the result for this user\n",
    "    # Use a unique identifier for the user, e.g., the DataFrame index or a timestamp\n",
    "    user_result = {\n",
    "        'user_identifier': index, # Or user_row['Timestamp'] or another unique column\n",
    "        'preferences': processed_prefs, # Optional: store processed prefs too\n",
    "        'recommendations': user_top_movies\n",
    "    }\n",
    "    all_user_recommendations.append(user_result)\n",
    "\n",
    "    # Optional: Print results for the current user\n",
    "    # print(f\"  Recommendations for user {index}: {user_top_movies}\\n\")"
   ]
  },
  {
   "cell_type": "code",
   "execution_count": 27,
   "id": "c282b50b-5c08-4120-a6ef-4d808ca055d6",
   "metadata": {},
   "outputs": [
    {
     "name": "stdout",
     "output_type": "stream",
     "text": [
      "{\n",
      "  \"user_identifier\": 0,\n",
      "  \"preferences\": {\n",
      "    \"genres\": [\n",
      "      \"Action\",\n",
      "      \"Adventure\",\n",
      "      \"Animation\",\n",
      "      \"Comedy\",\n",
      "      \"Fantasy\",\n",
      "      \"Romance\",\n",
      "      \"Sci-Fi\",\n",
      "      \"Thriller\"\n",
      "    ],\n",
      "    \"era\": \"Newer Releases (Post-2000)\",\n",
      "    \"length\": \"Longer epics (~120 minutes or longer)\",\n",
      "    \"actors_directors\": [],\n",
      "    \"acclaim\": \"\"\n",
      "  },\n",
      "  \"recommendations\": [\n",
      "    {\n",
      "      \"Title\": \"rebel moon - part two: the scargiver\",\n",
      "      \"predicted_liking\": 1.0\n",
      "    },\n",
      "    {\n",
      "      \"Title\": \"racing stripes\",\n",
      "      \"predicted_liking\": 1.0\n",
      "    },\n",
      "    {\n",
      "      \"Title\": \"getting even with dad\",\n",
      "      \"predicted_liking\": 1.0\n",
      "    },\n",
      "    {\n",
      "      \"Title\": \"lassie\",\n",
      "      \"predicted_liking\": 1.0\n",
      "    },\n",
      "    {\n",
      "      \"Title\": \"extinct\",\n",
      "      \"predicted_liking\": 1.0\n",
      "    },\n",
      "    {\n",
      "      \"Title\": \"the peanut butter solution\",\n",
      "      \"predicted_liking\": 1.0\n",
      "    },\n",
      "    {\n",
      "      \"Title\": \"the muppet christmas carol\",\n",
      "      \"predicted_liking\": 1.0\n",
      "    },\n",
      "    {\n",
      "      \"Title\": \"fireheart\",\n",
      "      \"predicted_liking\": 1.0\n",
      "    },\n",
      "    {\n",
      "      \"Title\": \"the princess switch\",\n",
      "      \"predicted_liking\": 1.0\n",
      "    },\n",
      "    {\n",
      "      \"Title\": \"the young and prodigious t.s. spivet\",\n",
      "      \"predicted_liking\": 1.0\n",
      "    }\n",
      "  ]\n",
      "}\n"
     ]
    }
   ],
   "source": [
    "if all_user_recommendations:\n",
    "     print(json.dumps(all_user_recommendations[0], indent=2))"
   ]
  },
  {
   "cell_type": "code",
   "execution_count": null,
   "id": "bdeedb68-a3a6-4fd6-bd84-53758f4f1d8f",
   "metadata": {},
   "outputs": [],
   "source": []
  }
 ],
 "metadata": {
  "kernelspec": {
   "display_name": "Python 3 (ipykernel)",
   "language": "python",
   "name": "python3"
  },
  "language_info": {
   "codemirror_mode": {
    "name": "ipython",
    "version": 3
   },
   "file_extension": ".py",
   "mimetype": "text/x-python",
   "name": "python",
   "nbconvert_exporter": "python",
   "pygments_lexer": "ipython3",
   "version": "3.9.18"
  }
 },
 "nbformat": 4,
 "nbformat_minor": 5
}
