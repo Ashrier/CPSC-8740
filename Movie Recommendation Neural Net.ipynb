{
 "cells": [
  {
   "cell_type": "code",
   "execution_count": 1,
   "id": "8e73ca6e-f6a3-49b4-b2e0-d04251543f65",
   "metadata": {},
   "outputs": [],
   "source": [
    "import pandas as pd\n",
    "import re\n",
    "from sklearn.preprocessing import LabelEncoder\n",
    "from tensorflow.keras.preprocessing.text import Tokenizer\n",
    "from tensorflow.keras.callbacks import EarlyStopping\n",
    "from tensorflow.keras.preprocessing.sequence import pad_sequences\n",
    "import joblib\n",
    "import tensorflow as tf\n",
    "from tensorflow import keras\n",
    "from tensorflow.keras import layers\n",
    "import numpy as np\n",
    "import json"
   ]
  },
  {
   "cell_type": "code",
   "execution_count": 2,
   "id": "051c755b-0701-4d44-a696-c593829f0afc",
   "metadata": {},
   "outputs": [],
   "source": [
    "movies = pd.read_csv(\"C:\\\\Users\\\\ashri\\\\CPSC 8740\\\\preprocessed_movies.csv\")"
   ]
  },
  {
   "cell_type": "code",
   "execution_count": 3,
   "id": "8486fa36-d314-4fae-9b5f-809e1b46c3b0",
   "metadata": {},
   "outputs": [
    {
     "data": {
      "text/html": [
       "<div>\n",
       "<style scoped>\n",
       "    .dataframe tbody tr th:only-of-type {\n",
       "        vertical-align: middle;\n",
       "    }\n",
       "\n",
       "    .dataframe tbody tr th {\n",
       "        vertical-align: top;\n",
       "    }\n",
       "\n",
       "    .dataframe thead th {\n",
       "        text-align: right;\n",
       "    }\n",
       "</style>\n",
       "<table border=\"1\" class=\"dataframe\">\n",
       "  <thead>\n",
       "    <tr style=\"text-align: right;\">\n",
       "      <th></th>\n",
       "      <th>Title</th>\n",
       "      <th>IMDb Rating</th>\n",
       "      <th>Year</th>\n",
       "      <th>Certificates</th>\n",
       "      <th>Director</th>\n",
       "      <th>Star Cast</th>\n",
       "      <th>Duration (minutes)</th>\n",
       "      <th>Star Cast Lower</th>\n",
       "      <th>Star Cast List</th>\n",
       "      <th>Star Cast List Clean</th>\n",
       "      <th>...</th>\n",
       "      <th>Horror</th>\n",
       "      <th>Music</th>\n",
       "      <th>Musical</th>\n",
       "      <th>Mystery</th>\n",
       "      <th>Reality-TV</th>\n",
       "      <th>Romance</th>\n",
       "      <th>Sci-Fi</th>\n",
       "      <th>Sport</th>\n",
       "      <th>Thriller</th>\n",
       "      <th>Western</th>\n",
       "    </tr>\n",
       "  </thead>\n",
       "  <tbody>\n",
       "    <tr>\n",
       "      <th>0</th>\n",
       "      <td>rebel moon - part two: the scargiver</td>\n",
       "      <td>-1.861952</td>\n",
       "      <td>1.074026</td>\n",
       "      <td>PG-13</td>\n",
       "      <td>zack snyder</td>\n",
       "      <td>Zack Snyder, Kurt Johnstad, Shay Hatten</td>\n",
       "      <td>0.418771</td>\n",
       "      <td>zack snyder, kurt johnstad, shay hatten</td>\n",
       "      <td>['zack snyder', 'kurt johnstad', 'shay hatten']</td>\n",
       "      <td>['zack snyder', 'kurt johnstad', 'shay hatten']</td>\n",
       "      <td>...</td>\n",
       "      <td>0</td>\n",
       "      <td>0</td>\n",
       "      <td>0</td>\n",
       "      <td>0</td>\n",
       "      <td>0</td>\n",
       "      <td>0</td>\n",
       "      <td>0</td>\n",
       "      <td>0</td>\n",
       "      <td>0</td>\n",
       "      <td>0</td>\n",
       "    </tr>\n",
       "    <tr>\n",
       "      <th>1</th>\n",
       "      <td>borderlands</td>\n",
       "      <td>0.302234</td>\n",
       "      <td>1.074026</td>\n",
       "      <td>R</td>\n",
       "      <td>eli roth</td>\n",
       "      <td>Eli Roth, Joe Crombie</td>\n",
       "      <td>0.160734</td>\n",
       "      <td>eli roth, joe crombie</td>\n",
       "      <td>['eli roth', 'joe crombie']</td>\n",
       "      <td>['eli roth', 'joe crombie']</td>\n",
       "      <td>...</td>\n",
       "      <td>0</td>\n",
       "      <td>0</td>\n",
       "      <td>0</td>\n",
       "      <td>0</td>\n",
       "      <td>0</td>\n",
       "      <td>0</td>\n",
       "      <td>0</td>\n",
       "      <td>0</td>\n",
       "      <td>0</td>\n",
       "      <td>0</td>\n",
       "    </tr>\n",
       "    <tr>\n",
       "      <th>2</th>\n",
       "      <td>jurassic park</td>\n",
       "      <td>1.555184</td>\n",
       "      <td>-0.721861</td>\n",
       "      <td>PG-13</td>\n",
       "      <td>steven spielberg</td>\n",
       "      <td>Michael Crichton, David Koepp</td>\n",
       "      <td>0.645120</td>\n",
       "      <td>michael crichton, david koepp</td>\n",
       "      <td>['michael crichton', 'david koepp']</td>\n",
       "      <td>['michael crichton', 'david koepp']</td>\n",
       "      <td>...</td>\n",
       "      <td>0</td>\n",
       "      <td>0</td>\n",
       "      <td>0</td>\n",
       "      <td>0</td>\n",
       "      <td>0</td>\n",
       "      <td>0</td>\n",
       "      <td>0</td>\n",
       "      <td>0</td>\n",
       "      <td>0</td>\n",
       "      <td>0</td>\n",
       "    </tr>\n",
       "    <tr>\n",
       "      <th>3</th>\n",
       "      <td>the fifth element</td>\n",
       "      <td>0.871757</td>\n",
       "      <td>-0.490134</td>\n",
       "      <td>PG-13</td>\n",
       "      <td>luc besson</td>\n",
       "      <td>Luc Besson, Robert Mark Kamen</td>\n",
       "      <td>0.599850</td>\n",
       "      <td>luc besson, robert mark kamen</td>\n",
       "      <td>['luc besson', 'robert mark kamen']</td>\n",
       "      <td>['luc besson', 'robert mark kamen']</td>\n",
       "      <td>...</td>\n",
       "      <td>0</td>\n",
       "      <td>0</td>\n",
       "      <td>0</td>\n",
       "      <td>0</td>\n",
       "      <td>0</td>\n",
       "      <td>0</td>\n",
       "      <td>0</td>\n",
       "      <td>0</td>\n",
       "      <td>0</td>\n",
       "      <td>0</td>\n",
       "    </tr>\n",
       "    <tr>\n",
       "      <th>4</th>\n",
       "      <td>inside out</td>\n",
       "      <td>1.441280</td>\n",
       "      <td>0.552639</td>\n",
       "      <td>PG</td>\n",
       "      <td>pete docter</td>\n",
       "      <td>Pete Docter, Ronnie Del Carmen, Meg Le, Fauve</td>\n",
       "      <td>-0.803511</td>\n",
       "      <td>pete docter, ronnie del carmen, meg le, fauve</td>\n",
       "      <td>['pete docter', 'ronnie del carmen', 'meg le',...</td>\n",
       "      <td>['pete docter', 'ronnie del carmen', 'meg le',...</td>\n",
       "      <td>...</td>\n",
       "      <td>0</td>\n",
       "      <td>0</td>\n",
       "      <td>0</td>\n",
       "      <td>0</td>\n",
       "      <td>0</td>\n",
       "      <td>0</td>\n",
       "      <td>0</td>\n",
       "      <td>0</td>\n",
       "      <td>0</td>\n",
       "      <td>0</td>\n",
       "    </tr>\n",
       "  </tbody>\n",
       "</table>\n",
       "<p>5 rows × 32 columns</p>\n",
       "</div>"
      ],
      "text/plain": [
       "                                  Title  IMDb Rating      Year Certificates  \\\n",
       "0  rebel moon - part two: the scargiver    -1.861952  1.074026        PG-13   \n",
       "1                           borderlands     0.302234  1.074026            R   \n",
       "2                         jurassic park     1.555184 -0.721861        PG-13   \n",
       "3                     the fifth element     0.871757 -0.490134        PG-13   \n",
       "4                            inside out     1.441280  0.552639           PG   \n",
       "\n",
       "           Director                                      Star Cast  \\\n",
       "0       zack snyder        Zack Snyder, Kurt Johnstad, Shay Hatten   \n",
       "1          eli roth                          Eli Roth, Joe Crombie   \n",
       "2  steven spielberg                  Michael Crichton, David Koepp   \n",
       "3        luc besson                  Luc Besson, Robert Mark Kamen   \n",
       "4       pete docter  Pete Docter, Ronnie Del Carmen, Meg Le, Fauve   \n",
       "\n",
       "   Duration (minutes)                                Star Cast Lower  \\\n",
       "0            0.418771        zack snyder, kurt johnstad, shay hatten   \n",
       "1            0.160734                          eli roth, joe crombie   \n",
       "2            0.645120                  michael crichton, david koepp   \n",
       "3            0.599850                  luc besson, robert mark kamen   \n",
       "4           -0.803511  pete docter, ronnie del carmen, meg le, fauve   \n",
       "\n",
       "                                      Star Cast List  \\\n",
       "0    ['zack snyder', 'kurt johnstad', 'shay hatten']   \n",
       "1                        ['eli roth', 'joe crombie']   \n",
       "2                ['michael crichton', 'david koepp']   \n",
       "3                ['luc besson', 'robert mark kamen']   \n",
       "4  ['pete docter', 'ronnie del carmen', 'meg le',...   \n",
       "\n",
       "                                Star Cast List Clean  ... Horror  Music  \\\n",
       "0    ['zack snyder', 'kurt johnstad', 'shay hatten']  ...      0      0   \n",
       "1                        ['eli roth', 'joe crombie']  ...      0      0   \n",
       "2                ['michael crichton', 'david koepp']  ...      0      0   \n",
       "3                ['luc besson', 'robert mark kamen']  ...      0      0   \n",
       "4  ['pete docter', 'ronnie del carmen', 'meg le',...  ...      0      0   \n",
       "\n",
       "   Musical  Mystery  Reality-TV  Romance  Sci-Fi  Sport  Thriller  Western  \n",
       "0        0        0           0        0       0      0         0        0  \n",
       "1        0        0           0        0       0      0         0        0  \n",
       "2        0        0           0        0       0      0         0        0  \n",
       "3        0        0           0        0       0      0         0        0  \n",
       "4        0        0           0        0       0      0         0        0  \n",
       "\n",
       "[5 rows x 32 columns]"
      ]
     },
     "execution_count": 3,
     "metadata": {},
     "output_type": "execute_result"
    }
   ],
   "source": [
    "movies.head()"
   ]
  },
  {
   "cell_type": "code",
   "execution_count": 4,
   "id": "3a0b291e-cf91-45a7-bccd-640963f55dc1",
   "metadata": {},
   "outputs": [
    {
     "data": {
      "text/plain": [
       "['director_encoder.pkl']"
      ]
     },
     "execution_count": 4,
     "metadata": {},
     "output_type": "execute_result"
    }
   ],
   "source": [
    "#Integer Encoding for Director\n",
    "label_encoder = LabelEncoder()\n",
    "movies['Director_Encoded'] = label_encoder.fit_transform(movies['Director'])\n",
    "joblib.dump(label_encoder, 'director_encoder.pkl')"
   ]
  },
  {
   "cell_type": "code",
   "execution_count": 5,
   "id": "3d0b3b85-feb9-4143-b0d7-2240a5302f9f",
   "metadata": {},
   "outputs": [
    {
     "name": "stdout",
     "output_type": "stream",
     "text": [
      "Number of Unique words in 'Title' 4216\n"
     ]
    }
   ],
   "source": [
    "#Tokenization and padding for Title\n",
    "all_titles = ' '.join(movies['Title'].astype(str).tolist())\n",
    "words = re.findall(r'\\b\\w+\\b', all_titles.lower())\n",
    "unique_words = set(words)\n",
    "num_unique_words = len(unique_words)\n",
    "print(f\"Number of Unique words in 'Title' {num_unique_words}\")"
   ]
  },
  {
   "cell_type": "code",
   "execution_count": 6,
   "id": "91ebffb0-665c-4dd1-8eae-61fa5f653949",
   "metadata": {},
   "outputs": [
    {
     "name": "stdout",
     "output_type": "stream",
     "text": [
      "Tokenizer saved as title_tokenizer.json\n"
     ]
    }
   ],
   "source": [
    "#With 4216 words, I'll set tokenizer to 5000 to account for words OOV during prediction\n",
    "movies = movies.dropna(subset=['Title'])\n",
    "tokenizer = Tokenizer(num_words = 5000)\n",
    "tokenizer.fit_on_texts(movies['Title'])\n",
    "sequences = tokenizer.texts_to_sequences(movies['Title'])\n",
    "padded_sequences = pad_sequences(sequences, maxlen=20)\n",
    "tokenizer_json_str = tokenizer.to_json()\n",
    "with open('title_tokenizer.json', 'w', encoding='utf-8') as f:\n",
    "    # json.dumps ensures it's written as a valid JSON string within the file\n",
    "    f.write(json.dumps(tokenizer_json_str, ensure_ascii=False))\n",
    "print(\"Tokenizer saved as title_tokenizer.json\")\n",
    "#joblib.dump(tokenizer, 'title_tokenizer.pkl')"
   ]
  },
  {
   "cell_type": "code",
   "execution_count": 7,
   "id": "c8ef9915-3ad7-4c73-9d7e-dd528eb289b2",
   "metadata": {},
   "outputs": [],
   "source": [
    "#Multi-Hot encoding for star cast\n",
    "all_actors = sorted(list(set().union(*movies['Star Cast List Clean'])))\n",
    "actor_to_index = {actor: index for index, actor in enumerate(all_actors)}\n",
    "star_cast_encoded = np.array([[1 if actor in actors else 0 for actor in all_actors] for actors in movies['Star Cast List Clean']])"
   ]
  },
  {
   "cell_type": "code",
   "execution_count": 8,
   "id": "2cd04082-c2a4-4d11-8ddb-37be6e9420ab",
   "metadata": {},
   "outputs": [],
   "source": [
    "#Prepare title data for Neural Net\n",
    "title_data = padded_sequences\n",
    "\n",
    "#Prepare director data for Neural Net\n",
    "director_data = movies['Director_Encoded'].values\n",
    "\n",
    "#Prepare numerical data\n",
    "numerical_data = movies[['IMDb Rating', 'Duration (minutes)', 'Year']].values\n",
    "\n",
    "#Prepare genre data\n",
    "genre_data = movies.iloc[:, 11:32].values"
   ]
  },
  {
   "cell_type": "code",
   "execution_count": 10,
   "id": "8567798e-08d5-455b-a7e6-66a9386ee3a4",
   "metadata": {
    "scrolled": true
   },
   "outputs": [
    {
     "data": {
      "text/plain": [
       "array([[1, 0, 0, ..., 0, 0, 0],\n",
       "       [1, 0, 0, ..., 0, 0, 0],\n",
       "       [1, 0, 0, ..., 0, 0, 0],\n",
       "       ...,\n",
       "       [0, 1, 1, ..., 0, 0, 0],\n",
       "       [0, 0, 1, ..., 0, 0, 0],\n",
       "       [0, 1, 1, ..., 0, 0, 0]], dtype=int64)"
      ]
     },
     "execution_count": 10,
     "metadata": {},
     "output_type": "execute_result"
    }
   ],
   "source": [
    "genre_data"
   ]
  },
  {
   "cell_type": "code",
   "execution_count": 9,
   "id": "21a47f51-bbe9-4e21-ba5d-57825682087d",
   "metadata": {},
   "outputs": [
    {
     "name": "stdout",
     "output_type": "stream",
     "text": [
      "-2.4314742789219834\n",
      "2.466420276722878\n"
     ]
    }
   ],
   "source": [
    "print(movies['IMDb Rating'].min())\n",
    "print(movies['IMDb Rating'].max())"
   ]
  },
  {
   "cell_type": "code",
   "execution_count": 10,
   "id": "765cf088-367d-4860-ab9a-04067799a4c2",
   "metadata": {},
   "outputs": [],
   "source": [
    "#Now, because we want to predict User-Movie Interactions, we're going to assume higher IMDb Ratings means more people like it\n",
    "# and simulate User_Movie Interactions based on that\n",
    "num_users = 100\n",
    "num_movies = len(movies)\n",
    "user_movie_matrix = np.zeros((num_users, num_movies))\n",
    "rating_threshold = 0.6\n",
    "for user_id in range(num_users):\n",
    "    for movie_id in range(num_movies):\n",
    "        if movies['IMDb Rating'].iloc[movie_id] >= rating_threshold and np.random.rand() > 0.1:\n",
    "            user_movie_matrix[user_id, movie_id] = 1"
   ]
  },
  {
   "cell_type": "code",
   "execution_count": 11,
   "id": "37425b9c-baea-4f31-812d-cc3a0a6ca55f",
   "metadata": {},
   "outputs": [
    {
     "data": {
      "text/plain": [
       "array([[0., 0., 1., ..., 1., 0., 1.],\n",
       "       [0., 0., 1., ..., 1., 0., 1.],\n",
       "       [0., 0., 1., ..., 1., 0., 1.],\n",
       "       ...,\n",
       "       [0., 0., 1., ..., 1., 0., 1.],\n",
       "       [0., 0., 1., ..., 1., 0., 0.],\n",
       "       [0., 0., 1., ..., 1., 0., 1.]])"
      ]
     },
     "execution_count": 11,
     "metadata": {},
     "output_type": "execute_result"
    }
   ],
   "source": [
    "user_movie_matrix"
   ]
  },
  {
   "cell_type": "code",
   "execution_count": 12,
   "id": "ed01ca74-a212-466f-ab10-798ef64e6e3e",
   "metadata": {},
   "outputs": [],
   "source": [
    "user_input = layers.Input(shape=(1,), name='user_input')\n",
    "movie_input = layers.Input(shape=(1,), name = 'movie_input')\n",
    "numerical_input = layers.Input(shape=(numerical_data.shape[1],), name='numerical_input')\n",
    "director_input = layers.Input(shape=(1,), name='director_input')\n",
    "genre_input = layers.Input(shape=(genre_data.shape[1],),name='genre_input')\n",
    "star_cast_input = layers.Input(shape=(star_cast_encoded.shape[1],), name='star_cast_input')\n",
    "title_input = layers.Input(shape=(20,), name = 'title_input')\n",
    "user_embedding = layers.Embedding(input_dim=num_users, output_dim=16, embeddings_regularizer=keras.regularizers.l2(0.001))(user_input)\n",
    "movie_embedding = layers.Embedding(input_dim=num_movies, output_dim=16, embeddings_regularizer=keras.regularizers.l2(0.001))(movie_input)\n",
    "user_vecs = layers.Flatten()(user_embedding)\n",
    "movie_vecs = layers.Flatten()(movie_embedding)\n",
    "dot_product = layers.Dot(axes=1)([user_vecs, movie_vecs])\n",
    "dot_product_reshaped = layers.Reshape((1,))(dot_product)\n",
    "title_embedding_layer = layers.Embedding(input_dim=5000, output_dim=16, input_length=20)(title_input)\n",
    "title_vecs = layers.Flatten()(title_embedding_layer)\n",
    "num_directors = len(label_encoder.classes_)\n",
    "director_embedding_layer = layers.Embedding(input_dim=num_directors, output_dim=8)(director_input)\n",
    "director_vecs = layers.Flatten()(director_embedding_layer)\n",
    "movie_features_concat = layers.concatenate([\n",
    "    numerical_input,\n",
    "    director_vecs,\n",
    "    genre_input,\n",
    "    star_cast_input,\n",
    "    title_vecs\n",
    "])\n",
    "movie_features_dense = layers.Dense(128, activation = 'relu', kernel_regularizer=keras.regularizers.l2(0.001))(movie_features_concat)\n",
    "movie_features_dropout = layers.Dropout(0.5)(movie_features_dense)\n",
    "movie_features_final = layers.Dense(64, activation = 'relu', kernel_regularizer= keras.regularizers.l2(0.001))(movie_features_dropout)\n",
    "combined_vecs = layers.concatenate([user_vecs, movie_vecs, movie_features_final])\n",
    "combined_dense = layers.Dense(64, activation='relu', kernel_regularizer=keras.regularizers.l2(0.001))(combined_vecs)\n",
    "combined_dropout = layers.Dropout(0.5)(combined_dense)\n",
    "output_layer = layers.Dense(1, activation='sigmoid')(combined_dropout)"
   ]
  },
  {
   "cell_type": "code",
   "execution_count": 13,
   "id": "b49fffdc-937b-47be-b743-5e1e4fb2ef3a",
   "metadata": {},
   "outputs": [],
   "source": [
    "model = keras.Model(\n",
    "    inputs=[user_input, movie_input, numerical_input, director_input, genre_input, star_cast_input, title_input],\n",
    "    outputs=output_layer\n",
    ")"
   ]
  },
  {
   "cell_type": "code",
   "execution_count": 14,
   "id": "4f7a0898-5039-422a-916d-a83a8367e39f",
   "metadata": {},
   "outputs": [],
   "source": [
    "model.compile(optimizer='adam', loss='binary_crossentropy', metrics=['accuracy'])"
   ]
  },
  {
   "cell_type": "code",
   "execution_count": 15,
   "id": "bd878c9b-9631-4398-ae52-324cc608251f",
   "metadata": {},
   "outputs": [],
   "source": [
    "early_stopping = EarlyStopping(monitor='val_loss', patience=3, restore_best_weights=True)"
   ]
  },
  {
   "cell_type": "code",
   "execution_count": 16,
   "id": "5eec3e35-d4bb-4f04-a58d-bec2535d837b",
   "metadata": {},
   "outputs": [],
   "source": [
    "user_ids = []\n",
    "movie_ids = []\n",
    "likes = []\n",
    "for user_id in range(num_users):\n",
    "    for movie_id in range(num_movies):\n",
    "        if user_movie_matrix[user_id, movie_id] == 1:\n",
    "            user_ids.append(user_id)\n",
    "            movie_ids.append(movie_id)\n",
    "            likes.append(1)\n",
    "train_numerical = numerical_data[movie_ids]\n",
    "train_director = director_data[movie_ids]\n",
    "train_genre = genre_data[movie_ids]\n",
    "train_star_cast = star_cast_encoded[movie_ids]\n",
    "train_title = title_data[movie_ids]"
   ]
  },
  {
   "cell_type": "code",
   "execution_count": null,
   "id": "fd49673d-c532-460f-9994-e4267a683941",
   "metadata": {},
   "outputs": [
    {
     "name": "stdout",
     "output_type": "stream",
     "text": [
      "Epoch 1/50\n",
      "1178/1178 [==============================] - 7s 5ms/step - loss: 0.0420 - accuracy: 0.9990 - val_loss: 0.0038 - val_accuracy: 1.0000\n",
      "Epoch 2/50\n",
      "1178/1178 [==============================] - 6s 5ms/step - loss: 0.0024 - accuracy: 1.0000 - val_loss: 0.0010 - val_accuracy: 1.0000\n",
      "Epoch 3/50\n",
      "1178/1178 [==============================] - 5s 4ms/step - loss: 7.4437e-04 - accuracy: 1.0000 - val_loss: 3.0463e-04 - val_accuracy: 1.0000\n",
      "Epoch 4/50\n",
      "1178/1178 [==============================] - 5s 4ms/step - loss: 2.9188e-04 - accuracy: 1.0000 - val_loss: 1.0092e-04 - val_accuracy: 1.0000\n",
      "Epoch 5/50\n",
      "1178/1178 [==============================] - 5s 5ms/step - loss: 1.2599e-04 - accuracy: 1.0000 - val_loss: 6.8420e-05 - val_accuracy: 1.0000\n",
      "Epoch 6/50\n",
      "1178/1178 [==============================] - 5s 4ms/step - loss: 5.0049e-05 - accuracy: 1.0000 - val_loss: 1.6707e-05 - val_accuracy: 1.0000\n",
      "Epoch 7/50\n",
      "1178/1178 [==============================] - 5s 4ms/step - loss: 1.7063e-05 - accuracy: 1.0000 - val_loss: 1.4334e-06 - val_accuracy: 1.0000\n",
      "Epoch 8/50\n",
      "1178/1178 [==============================] - 5s 4ms/step - loss: 7.2490e-06 - accuracy: 1.0000 - val_loss: 3.5432e-07 - val_accuracy: 1.0000\n",
      "Epoch 9/50\n",
      "1178/1178 [==============================] - 5s 4ms/step - loss: 5.1698e-06 - accuracy: 1.0000 - val_loss: 3.3514e-06 - val_accuracy: 1.0000\n",
      "Epoch 10/50\n",
      "1178/1178 [==============================] - 6s 5ms/step - loss: 3.9535e-06 - accuracy: 1.0000 - val_loss: 7.3909e-09 - val_accuracy: 1.0000\n",
      "Epoch 11/50\n",
      "1178/1178 [==============================] - 5s 5ms/step - loss: 4.0952e-06 - accuracy: 1.0000 - val_loss: 7.1363e-09 - val_accuracy: 1.0000\n",
      "Epoch 12/50\n",
      "1178/1178 [==============================] - 5s 5ms/step - loss: 5.5138e-07 - accuracy: 1.0000 - val_loss: 1.7504e-09 - val_accuracy: 1.0000\n",
      "Epoch 13/50\n",
      "1178/1178 [==============================] - 5s 4ms/step - loss: 2.6153e-07 - accuracy: 1.0000 - val_loss: 1.2908e-09 - val_accuracy: 1.0000\n",
      "Epoch 14/50\n",
      "1178/1178 [==============================] - 5s 4ms/step - loss: 9.1912e-07 - accuracy: 1.0000 - val_loss: 1.0803e-05 - val_accuracy: 1.0000\n",
      "Epoch 15/50\n",
      "1178/1178 [==============================] - 5s 4ms/step - loss: 2.5049e-07 - accuracy: 1.0000 - val_loss: 8.5861e-10 - val_accuracy: 1.0000\n",
      "Epoch 16/50\n",
      "1178/1178 [==============================] - 5s 4ms/step - loss: 4.3140e-08 - accuracy: 1.0000 - val_loss: 5.6696e-10 - val_accuracy: 1.0000\n",
      "Epoch 17/50\n",
      "1178/1178 [==============================] - 5s 4ms/step - loss: 2.7928e-08 - accuracy: 1.0000 - val_loss: 5.7653e-10 - val_accuracy: 1.0000\n",
      "Epoch 18/50\n",
      " 391/1178 [========>.....................] - ETA: 3s - loss: 2.5172e-07 - accuracy: 1.0000"
     ]
    }
   ],
   "source": [
    "history = model.fit(\n",
    "    [np.array(user_ids), # User IDs\n",
    "     np.array(movie_ids), # Movie IDs (can be used for movie embedding if layer exists)\n",
    "     train_numerical,     # Numerical features\n",
    "     train_director,      # Encoded Director\n",
    "     train_genre,         # Genre features\n",
    "     train_star_cast,     # Star cast features\n",
    "     train_title],        # Title features\n",
    "    np.array(likes),      # Labels\n",
    "    epochs=50,            # Increase epochs, early stopping will handle the duration\n",
    "    validation_split=0.2,\n",
    "    callbacks=[early_stopping], # Add the callback here\n",
    "    batch_size=64         # Consider adding batch size\n",
    ")"
   ]
  },
  {
   "cell_type": "code",
   "execution_count": 57,
   "id": "11fd2842-9fed-4cdd-8211-721ab0b0f48e",
   "metadata": {},
   "outputs": [],
   "source": [
    "model.save('movie_recommendation_model.h5')\n",
    "\n",
    "# Save the necessary preprocessors\n",
    "#joblib.dump(scaler, 'scaler.pkl')\n",
    "#joblib.dump(min_max_scaler, 'min_max_scaler.pkl')\n",
    "joblib.dump(label_encoder, 'director_encoder.pkl')\n",
    "joblib.dump(tokenizer, 'title_tokenizer.pkl')\n",
    "# Also save 'actor_to_index' and the list of 'all_actors' if needed for prediction\n",
    "import json\n",
    "with open('actor_to_index.json', 'w') as f:\n",
    "    json.dump(actor_to_index, f)\n",
    "np.save('all_actors.npy', np.array(all_actors))\n",
    "# Save the genre columns order\n",
    "genre_columns = movies.iloc[:, 11:32].columns.tolist() # Get column names\n",
    "with open('genre_columns.json', 'w') as f:\n",
    "    json.dump(genre_columns, f)"
   ]
  },
  {
   "cell_type": "code",
   "execution_count": 8,
   "id": "0a8404fd-de54-4e42-bbd7-51a627560c9c",
   "metadata": {},
   "outputs": [],
   "source": [
    "movies.to_csv('neural_net_ready_preprocessed_movies.csv', index=False)"
   ]
  },
  {
   "cell_type": "code",
   "execution_count": null,
   "id": "4c310bad-631f-442d-a3d5-2a1f38ebbd9e",
   "metadata": {},
   "outputs": [],
   "source": []
  }
 ],
 "metadata": {
  "kernelspec": {
   "display_name": "Python 3 (ipykernel)",
   "language": "python",
   "name": "python3"
  },
  "language_info": {
   "codemirror_mode": {
    "name": "ipython",
    "version": 3
   },
   "file_extension": ".py",
   "mimetype": "text/x-python",
   "name": "python",
   "nbconvert_exporter": "python",
   "pygments_lexer": "ipython3",
   "version": "3.9.18"
  }
 },
 "nbformat": 4,
 "nbformat_minor": 5
}
